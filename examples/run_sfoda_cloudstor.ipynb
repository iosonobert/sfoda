{
 "cells": [
  {
   "cell_type": "markdown",
   "metadata": {},
   "source": [
    "# Shows how to install and run [SFODA](https://github.com/mrayson/sfoda.git) in a cloudstor SWAN session\n",
    "\n",
    "To install this notebook run:\n",
    "\n",
    "    `!curl <insert_git_url> -o run_sfoda_cloudstor.ipynb` \n",
    "    \n",
    "in a SWAN notebook"
   ]
  },
  {
   "cell_type": "code",
   "execution_count": null,
   "metadata": {},
   "outputs": [],
   "source": [
    "# Install SFODA and dependencies via pip\n",
    "!pip install git+https://github.com/mrayson/sfoda.git --user"
   ]
  },
  {
   "cell_type": "code",
   "execution_count": null,
   "metadata": {},
   "outputs": [],
   "source": [
    "# Download some test netcdf data (~160 GB)\n",
    "!curl https://cloudstor.aarnet.edu.au/plus/s/DnOYpT3ZPnqjNsS/download -o NWS_2km_GLORYS_hex_2013_2014_SSHBC_Harmonics.nc"
   ]
  },
  {
   "cell_type": "code",
   "execution_count": null,
   "metadata": {},
   "outputs": [],
   "source": [
    "import matplotlib.pyplot as plt\n",
    "from sfoda.suntans.sunxray import Sunxray\n"
   ]
  },
  {
   "cell_type": "code",
   "execution_count": null,
   "metadata": {},
   "outputs": [],
   "source": [
    "# Load the suntans object\n",
    "basedir = './'\n",
    "ncfile = 'NWS_2km_GLORYS_hex_2013_2014_SSHBC_Harmonics.nc'.format(basedir)\n",
    "\n",
    "sun = Sunxray(ncfile)\n",
    "sun\n"
   ]
  },
  {
   "cell_type": "code",
   "execution_count": null,
   "metadata": {},
   "outputs": [],
   "source": [
    "# The xarray obect is stored in the ._ds attribute\n",
    "# data can be referenced directly via e.g.\n",
    "data = sun._ds['SSH_BC_var']\n",
    "data"
   ]
  },
  {
   "cell_type": "code",
   "execution_count": null,
   "metadata": {},
   "outputs": [],
   "source": [
    "# Use inbuilt plotting methods for quick plotting\n",
    "plt.figure(figsize=(12,6))\n",
    "sun.plotcelldata(data, vmax=5e-3, cmap='Reds')"
   ]
  },
  {
   "cell_type": "code",
   "execution_count": null,
   "metadata": {},
   "outputs": [],
   "source": []
  }
 ],
 "metadata": {
  "kernelspec": {
   "display_name": "Python 3",
   "language": "python",
   "name": "python3"
  },
  "language_info": {
   "codemirror_mode": {
    "name": "ipython",
    "version": 3
   },
   "file_extension": ".py",
   "mimetype": "text/x-python",
   "name": "python",
   "nbconvert_exporter": "python",
   "pygments_lexer": "ipython3",
   "version": "3.7.6"
  }
 },
 "nbformat": 4,
 "nbformat_minor": 4
}
